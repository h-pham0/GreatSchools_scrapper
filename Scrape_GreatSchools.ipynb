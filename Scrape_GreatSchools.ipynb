{
 "cells": [
  {
   "cell_type": "code",
   "execution_count": 1,
   "id": "46ce2c70",
   "metadata": {},
   "outputs": [],
   "source": [
    "import pandas as pd\n",
    "import os\n",
    "import logging\n",
    "import requests\n",
    "from bs4 import BeautifulSoup\n",
    "import random\n",
    "import re\n",
    "import urllib.parse\n",
    "import json"
   ]
  },
  {
   "cell_type": "code",
   "execution_count": 2,
   "id": "43cdbb0d",
   "metadata": {},
   "outputs": [],
   "source": [
    "BASE_HEADERS = {\n",
    "    \"user-agent\": \"Mozilla/5.0 (Windows NT 10.0; Win64; x64) AppleWebKit/537.36 (KHTML, like Gecko) Chrome/96.0.4664.110 Safari/537.36\",\n",
    "    \"accept\": \"text/html,application/xhtml+xml,application/xml;q=0.9,image/webp,image/apng,*/*;q=0.8\",\n",
    "    \"accept-language\": \"en-US;en;q=0.9\",\n",
    "    \"accept-encoding\": \"gzip, deflate, br\",\n",
    "}"
   ]
  },
  {
   "cell_type": "code",
   "execution_count": 3,
   "id": "46571efb",
   "metadata": {},
   "outputs": [],
   "source": [
    "base_url = 'https://www.greatschools.org/new-york/new-york/schools/?view=table'"
   ]
  },
  {
   "cell_type": "code",
   "execution_count": 4,
   "id": "87e71fe5",
   "metadata": {},
   "outputs": [],
   "source": [
    "def get_num_pages(url):\n",
    "    response = requests.get(url, headers=BASE_HEADERS)\n",
    "    jsonStr = re.search(r'gon.search=(.*?);', response.text).group(1)\n",
    "    jsonObj = json.loads(jsonStr)\n",
    "    total_pages = jsonObj['totalPages']\n",
    "    response.close()\n",
    "    print('Connection closed')\n",
    "    return total_pages"
   ]
  },
  {
   "cell_type": "code",
   "execution_count": 5,
   "id": "6e785fcd",
   "metadata": {},
   "outputs": [
    {
     "name": "stdout",
     "output_type": "stream",
     "text": [
      "Connection closed\n"
     ]
    },
    {
     "data": {
      "text/plain": [
       "46"
      ]
     },
     "execution_count": 5,
     "metadata": {},
     "output_type": "execute_result"
    }
   ],
   "source": [
    "num_pages = get_num_pages(base_url)\n",
    "num_pages"
   ]
  },
  {
   "cell_type": "code",
   "execution_count": 6,
   "id": "208c5016",
   "metadata": {},
   "outputs": [],
   "source": [
    "def scrape_one_page(url):\n",
    "    records = []\n",
    "    response = requests.get(url, headers=BASE_HEADERS)\n",
    "    jsonStr = re.search(r'gon.search=(.*?);', response.text).group(1)\n",
    "    jsonObj = json.loads(jsonStr)\n",
    "    for school in jsonObj['schools']:\n",
    "        try:\n",
    "            records.append({ \n",
    "                        'School': school['name'], \n",
    "                        'Rating': school['rating'], \n",
    "                        'Rating scale': school['ratingScale'],\n",
    "                        'Address': school['address']['street1'], \n",
    "                        'Type': school['schoolType'],\n",
    "                        'Grades': school['gradeLevels'],\n",
    "                        'Total Students Enrolled': school['enrollment'],\n",
    "                        'Students per teacher': school['studentsPerTeacher'], \n",
    "                        'District': school['districtName'],\n",
    "                        'URL': school['links']['profile']\n",
    "                        })\n",
    "        except KeyError: \n",
    "            records.append({ \n",
    "                        'School': school['name'], \n",
    "                        'Rating': school['rating'], \n",
    "                        'Rating scale': school['ratingScale'],\n",
    "                        'Address': school['address']['street1'], \n",
    "                        'Type': school['schoolType'],\n",
    "                        'Grades': school['gradeLevels'],\n",
    "                        'Total Students Enrolled': school['enrollment'],\n",
    "                        'Students per teacher': 'N/A', \n",
    "                        'District': school['districtName'],\n",
    "                        'URL': school['links']['profile']\n",
    "                        })\n",
    "    response.close()\n",
    "    print('Connection closed')\n",
    "    return records"
   ]
  },
  {
   "cell_type": "code",
   "execution_count": 10,
   "id": "4bd34628",
   "metadata": {},
   "outputs": [],
   "source": [
    "for page in range (1, num_pages + 1):\n",
    "    df = pd.DataFrame()\n",
    "    url = 'https://www.greatschools.org/new-york/new-york/schools/?page={}&view=table'.format(page)\n",
    "    records = scrape_one_page(url)\n",
    "    df = pd.DataFrame(records)\n",
    "    df.to_csv('./greatschools.csv', sep=';', encoding='UTF-8', index=False, mode='a')\n",
    "    time.sleep(random.randint(1, 50))"
   ]
  },
  {
   "cell_type": "code",
   "execution_count": null,
   "id": "39730883",
   "metadata": {},
   "outputs": [],
   "source": []
  }
 ],
 "metadata": {
  "kernelspec": {
   "display_name": "Python 3 (ipykernel)",
   "language": "python",
   "name": "python3"
  },
  "language_info": {
   "codemirror_mode": {
    "name": "ipython",
    "version": 3
   },
   "file_extension": ".py",
   "mimetype": "text/x-python",
   "name": "python",
   "nbconvert_exporter": "python",
   "pygments_lexer": "ipython3",
   "version": "3.10.9"
  }
 },
 "nbformat": 4,
 "nbformat_minor": 5
}
